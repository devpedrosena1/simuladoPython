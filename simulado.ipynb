{
 "cells": [
  {
   "cell_type": "markdown",
   "metadata": {},
   "source": [
    "**Lembre-se de fazer com calma.**"
   ]
  },
  {
   "cell_type": "markdown",
   "metadata": {},
   "source": [
    "__LISTAS__"
   ]
  },
  {
   "cell_type": "markdown",
   "metadata": {},
   "source": [
    "**1. Crie um sistema de cadastro de produtos em uma lista de produtos**\n",
    "**Seu sistema deve:**\n",
    "\n",
    "**Pegar o usuário qual produto vai ser cadastrado por meio de um input**\n",
    "**Garantir que se o usuário escrever com letra maiúscula ou minúscula, o produto continua sendo o mesmo produto**\n",
    "**Se o usuário inserir um produto que já existe na lista, o programa deve printar a mensagem \"Produto já existente, tente novamente\"**\n",
    "**Se o usuário inserir um produto que não existe na lista, o programa deve inserir na lista, printar a mensagem Produto X cadastrado com sucesso e em seguida printar a lista completa**"
   ]
  },
  {
   "cell_type": "code",
   "execution_count": 3,
   "metadata": {},
   "outputs": [
    {
     "name": "stdout",
     "output_type": "stream",
     "text": [
      "O produto teclado foi adicionado a lista de produtos!\n",
      "['celular', 'notebook', 'camera', 'fone de ouvido', 'monitor', 'teclado']\n"
     ]
    }
   ],
   "source": [
    "## seu código aqui\n",
    "produtos = ['celular', 'notebook', 'camera', 'fone de ouvido', 'monitor']\n",
    "\n",
    "produto = input('Informe o produto: ')\n",
    "produto = produto.lower()\n",
    "\n",
    "if produto in produtos:\n",
    "    print(f'{produto} já existe na lista. Tente novamente!')\n",
    "else:\n",
    "    produtos.append(produto)\n",
    "    print(f'O produto {produto} foi adicionado a lista de produtos!')\n",
    "    print(produtos)"
   ]
  },
  {
   "cell_type": "markdown",
   "metadata": {},
   "source": [
    "**2. Crie um programa que consiga descobrir qual dos vendedores vendeu mais**\n",
    "**As vendas dos vendedores são listas com a quantidade vendida por cada vendedor**"
   ]
  },
  {
   "cell_type": "code",
   "execution_count": 4,
   "metadata": {},
   "outputs": [
    {
     "name": "stdout",
     "output_type": "stream",
     "text": [
      "O vendor 2 vendeu mais produtos com 1714 vendas.\n"
     ]
    }
   ],
   "source": [
    "## seu código aqui\n",
    "vendas = [\n",
    "    [10, 20, 100, 80, 90, 100, 20, 30, 44, 55, 33, 34, 100, 90, 80, 39, 87, 45, 50, 50, 50, 50, 40, 30, 3, 93, 39, 49, 88],    \n",
    "    [100, 1, 1, 4, 5, 90, 100, 20, 4, 5, 100, 100, 100, 100, 100, 93, 20, 15, 40, 90, 90, 90, 90, 90, 90, 33, 22, 44, 43, 34],\n",
    "]\n",
    "\n",
    "vendedor_1 = sum(vendas[0])\n",
    "vendedor_2 = sum(vendas[1])\n",
    "\n",
    "if vendedor_1 > vendedor_2:\n",
    "    print(f'O vendedor 1 vendeu mais com produtos{vendedor_1} vendas.')\n",
    "else:\n",
    "    print(f'O vendor 2 vendeu mais produtos com {vendedor_2} vendas.') \n"
   ]
  },
  {
   "cell_type": "markdown",
   "metadata": {},
   "source": [
    "__DICIONÁRIOS__"
   ]
  },
  {
   "cell_type": "markdown",
   "metadata": {},
   "source": [
    "**1. Crie um dicionário com 3 itens, onde as chaves são nomes de frutas e os valores são o preço de cada fruta. Escreva um código que imprima o preço de uma fruta escolhida pelo usuário.**"
   ]
  },
  {
   "cell_type": "code",
   "execution_count": 11,
   "metadata": {},
   "outputs": [
    {
     "name": "stdout",
     "output_type": "stream",
     "text": [
      "O valor de Abacate é: R$12.0\n"
     ]
    }
   ],
   "source": [
    "## seu código aqui\n",
    "dic = {\n",
    "    \"Banana\": 8.00,\n",
    "    \"Maça\": 5.00,\n",
    "    \"Abacate\": 12.00\n",
    "}\n",
    "\n",
    "escolha = input('Informe o nome de uma fruta que deseja saber o valor: ')\n",
    "\n",
    "if escolha in dic:\n",
    "    print(f'O valor de {escolha} é: R${dic[escolha]}')\n",
    "else:\n",
    "    print(f'A fruta {escolha} não está no dicionário')"
   ]
  },
  {
   "cell_type": "markdown",
   "metadata": {},
   "source": [
    "**2. Crie um dicionário que armazene o nome de 3 estudantes e suas notas. Escreva um código para calcular a média das notas e imprima a média geral.**"
   ]
  },
  {
   "cell_type": "code",
   "execution_count": null,
   "metadata": {},
   "outputs": [
    {
     "name": "stdout",
     "output_type": "stream",
     "text": [
      "Pedro 10\n",
      "Matheus 8\n",
      "Cleyton 8\n",
      "A soma das notas é: 26\n",
      "A média das notas é: 8.666666666666666\n"
     ]
    }
   ],
   "source": [
    "## seu código aqui\n",
    "notas = {\n",
    "    \"Pedro\": 10,\n",
    "    \"Matheus\": 8,\n",
    "    \"Cleyton\": 8\n",
    "}\n",
    "\n",
    "## loop for para percorrer o nome e nota de cada aluno\n",
    "for nome, nota in notas.items():\n",
    "    print(nome, nota)\n",
    "\n",
    "## calculando a soma das notas\n",
    "soma = sum(notas.values())\n",
    "print(f'A soma das notas é: {soma}')\n",
    "\n",
    "## calculando a média\n",
    "media = soma / len(notas)\n",
    "print(f'A média das notas é: {media}')"
   ]
  },
  {
   "cell_type": "markdown",
   "metadata": {},
   "source": [
    "__ARQUIVOS .txt__"
   ]
  },
  {
   "cell_type": "markdown",
   "metadata": {},
   "source": [
    "**1. Escreva um código que crie um arquivo de texto chamado notas.txt e grave as notas de 5 alunos no arquivo, uma por linha.**"
   ]
  },
  {
   "cell_type": "code",
   "execution_count": 30,
   "metadata": {},
   "outputs": [
    {
     "name": "stdout",
     "output_type": "stream",
     "text": [
      "Arquivo gerado com sucesso!\n"
     ]
    }
   ],
   "source": [
    "## seu código aqui\n",
    "dic_alunos = {\n",
    "    'Pedro': 10.0,\n",
    "    'Matheus': 8.0,\n",
    "    'Cleyton': 9.0,\n",
    "    'Matteus': 7.0,\n",
    "    'Sulamita': 6.5\n",
    "}\n",
    "\n",
    "with open('notas.txt', mode='w') as arq:\n",
    "    for aluno, nota in dic_alunos.items():\n",
    "        arq.write(f'O aluno {aluno} teve nota {nota}\\n')\n",
    "        \n",
    "    print('Arquivo gerado com sucesso!')\n",
    "        "
   ]
  },
  {
   "cell_type": "markdown",
   "metadata": {},
   "source": [
    "**2. Escreva um código que leia o arquivo notas.txt e imprima a soma das notas de todos os alunos.**"
   ]
  },
  {
   "cell_type": "code",
   "execution_count": null,
   "metadata": {},
   "outputs": [
    {
     "name": "stdout",
     "output_type": "stream",
     "text": [
      "A soma de todas as notas é: 40.5\n"
     ]
    }
   ],
   "source": [
    "## seu código aqui\n",
    "with open('notas.txt', mode='r') as arq:\n",
    "    soma = sum(float(linha.split()[-1]) for linha in arq)\n",
    "print(f'A soma de todas as notas é: {soma}')"
   ]
  },
  {
   "cell_type": "markdown",
   "metadata": {},
   "source": [
    "__ARQUIVOS .json__"
   ]
  },
  {
   "cell_type": "markdown",
   "metadata": {},
   "source": [
    "**1. Crie um dicionário que armazene o nome e a idade de 3 pessoas. Salve esse dicionário em um arquivo JSON chamado pessoas.json.**"
   ]
  },
  {
   "cell_type": "code",
   "execution_count": 5,
   "metadata": {},
   "outputs": [
    {
     "name": "stdout",
     "output_type": "stream",
     "text": [
      "Dados gravados com sucesso!\n"
     ]
    }
   ],
   "source": [
    "## seu código aqui\n",
    "import json\n",
    "\n",
    "dic_pessoas = {\n",
    "    \"Maria\": 23,\n",
    "    \"Pedro\": 19,\n",
    "    \"Matheus\": 20\n",
    "}\n",
    "\n",
    "with open('arquivos.json', mode='w', encoding='utf8') as arq:\n",
    "    json.dump(dic_pessoas, arq, indent=4)\n",
    "\n",
    "    print('Dados gravados com sucesso!')"
   ]
  },
  {
   "cell_type": "markdown",
   "metadata": {},
   "source": [
    "**2. Escreva um código que leia o arquivo pessoas.json e imprima o nome e a idade de todas as pessoas.**"
   ]
  },
  {
   "cell_type": "code",
   "execution_count": 10,
   "metadata": {},
   "outputs": [
    {
     "name": "stdout",
     "output_type": "stream",
     "text": [
      "Nome: Maria | Idade: 23\n",
      "Nome: Pedro | Idade: 19\n",
      "Nome: Matheus | Idade: 20\n"
     ]
    }
   ],
   "source": [
    "## seu código aqui\n",
    "import json\n",
    "\n",
    "with open('arquivos.json', mode='r', encoding='utf8') as arq:\n",
    "    dados = json.load(arq)\n",
    "\n",
    "for nome, idade in dados.items():\n",
    "    print(f'Nome: {nome} | Idade: {idade}')"
   ]
  },
  {
   "cell_type": "markdown",
   "metadata": {},
   "source": [
    "__EXERCÍCIO FINAL (engloba os 3 temas)__"
   ]
  },
  {
   "cell_type": "markdown",
   "metadata": {},
   "source": [
    "**1. Crie um programa que leia um arquivo produtos.txt contendo o nome e o preço de 5 produtos (um por linha, separados por vírgula). Armazene os dados em uma lista de dicionários, onde cada dicionário contém o nome e o preço de um produto. Em seguida, salve essa lista em um arquivo JSON chamado produtos.json. Após isso, leia o arquivo JSON e imprima o nome e o preço de cada produto que tem preço superior a 50 unidades monetárias.**"
   ]
  },
  {
   "cell_type": "code",
   "execution_count": 24,
   "metadata": {},
   "outputs": [
    {
     "name": "stdout",
     "output_type": "stream",
     "text": [
      "Arquivo gerado com sucesso!\n",
      "Arquivo gerado com sucesso!\n",
      "\n",
      "Produtos com valor superior a R$50.00: \n",
      "Nome: Notebook, Preço: R$2000.00\n",
      "Nome: Placa de Video, Preço: R$3000.00\n",
      "Nome: Monitor, Preço: R$570.00\n",
      "Nome: Teclado, Preço: R$300.00\n",
      "Nome: Mouse, Preço: R$250.00\n"
     ]
    }
   ],
   "source": [
    "## seu código aqui\n",
    "\n",
    "## criando o dicionario de produtos e preços\n",
    "produtos = {\n",
    "    'Notebook': 2000,\n",
    "    'Placa de Video': 3000,\n",
    "    'Monitor': 570,\n",
    "    'Teclado': 300,\n",
    "    'Mouse': 250\n",
    "}\n",
    "\n",
    "## gerando o arquivo .txt\n",
    "with open('produtos.txt', mode='w', encoding='utf8') as arq:\n",
    "    for produto, preco in produtos.items():\n",
    "        arq.write(f'{produto}|{preco}\\n')\n",
    "\n",
    "print('Arquivo gerado com sucesso!')\n",
    "\n",
    "## lendo o arquivo .txt e gerando uma lista\n",
    "lista_produtos = []\n",
    "\n",
    "with open('produtos.txt', mode='r', encoding='utf8') as arq:\n",
    "    for linha in arq:\n",
    "        nome, preco = linha.strip().split('|')\n",
    "        lista_produtos.append({\n",
    "            'nome': nome,\n",
    "            'preco': float(preco)\n",
    "        })\n",
    "\n",
    "## salvando a lista em um arquivo .json\n",
    "with open('produtos.json', mode='w', encoding='utf8') as arq_json:\n",
    "    json.dump(lista_produtos, arq_json, indent=4)\n",
    "\n",
    "print('Arquivo gerado com sucesso!')\n",
    "\n",
    "## lendo arquivo.json e retornando produtos com valor superior a 50\n",
    "with open('produtos.json', mode='r', encoding='utf8') as arq_json:\n",
    "    produtos_json = json.load(arq_json)\n",
    "\n",
    "print('\\nProdutos com valor superior a R$50.00: ')\n",
    "for produto in produtos_json:\n",
    "    if produto['preco'] > 50:\n",
    "        print(f'Nome: {produto[\"nome\"]}, Preço: R${produto[\"preco\"]:.2f}')"
   ]
  },
  {
   "cell_type": "code",
   "execution_count": 34,
   "metadata": {},
   "outputs": [
    {
     "name": "stdout",
     "output_type": "stream",
     "text": [
      "=== Produtos atualizados ===\n",
      "Notebook,2000\n",
      "Placa de Video,3000\n",
      "Monitor,570\n",
      "Teclado,250.0\n",
      "Mouse,250\n",
      "\n"
     ]
    }
   ],
   "source": [
    "## criando um arquivo txt\n",
    "produtos = {\n",
    "    'Notebook': 2000,\n",
    "    'Placa de Video': 3000,\n",
    "    'Monitor': 570,\n",
    "    'Teclado': 300,\n",
    "    'Mouse': 250\n",
    "}\n",
    "\n",
    "with open('produtos2.txt', mode='w', encoding='utf-8') as arq:\n",
    "    for produto, preco in produtos.items():\n",
    "        arq.write(f'{produto},{preco}\\n')\n",
    "\n",
    "escolha_produto = input('Informe o produto para atualizar o preço: ')\n",
    "if escolha_produto in produtos:\n",
    "    escolha_preco = float(input('Informe o novo preço do produto: '))\n",
    "    produtos[escolha_produto] = escolha_preco\n",
    "\n",
    "    with open('produtos2.txt', mode='w', encoding='utf8') as arq:\n",
    "        for produto, preco in produtos.items():\n",
    "            arq.write(f'{produto},{preco}\\n')\n",
    "\n",
    "print('=== Produtos atualizados ===')\n",
    "with open('produtos2.txt', mode='r', encoding='utf8') as arq:\n",
    "    dados = arq.read()\n",
    "\n",
    "    print(dados)\n"
   ]
  }
 ],
 "metadata": {
  "kernelspec": {
   "display_name": "Python 3",
   "language": "python",
   "name": "python3"
  },
  "language_info": {
   "codemirror_mode": {
    "name": "ipython",
    "version": 3
   },
   "file_extension": ".py",
   "mimetype": "text/x-python",
   "name": "python",
   "nbconvert_exporter": "python",
   "pygments_lexer": "ipython3",
   "version": "3.11.9"
  }
 },
 "nbformat": 4,
 "nbformat_minor": 2
}
