{
 "cells": [
  {
   "cell_type": "markdown",
   "metadata": {},
   "source": [
    "**Lembre-se de fazer com calma.**"
   ]
  },
  {
   "cell_type": "markdown",
   "metadata": {},
   "source": [
    "__LISTAS__"
   ]
  },
  {
   "cell_type": "markdown",
   "metadata": {},
   "source": [
    "**1. Crie um sistema de cadastro de produtos em uma lista de produtos**\n",
    "**Seu sistema deve:**\n",
    "\n",
    "**Pegar o usuário qual produto vai ser cadastrado por meio de um input**\n",
    "**Garantir que se o usuário escrever com letra maiúscula ou minúscula, o produto continua sendo o mesmo produto**\n",
    "**Se o usuário inserir um produto que já existe na lista, o programa deve printar a mensagem \"Produto já existente, tente novamente\"**\n",
    "**Se o usuário inserir um produto que não existe na lista, o programa deve inserir na lista, printar a mensagem Produto X cadastrado com sucesso e em seguida printar a lista completa**"
   ]
  },
  {
   "cell_type": "code",
   "execution_count": null,
   "metadata": {},
   "outputs": [
    {
     "name": "stdout",
     "output_type": "stream",
     "text": [
      "32\n"
     ]
    }
   ],
   "source": [
    "## seu código aqui\n",
    "produtos = ['celular', 'notebook', 'camera', 'fone de ouvido', 'monitor']\n"
   ]
  },
  {
   "cell_type": "markdown",
   "metadata": {},
   "source": [
    "**2. Crie um programa que consiga descobrir qual dos vendedores vendeu mais**\n",
    "**As vendas dos vendedores são listas com a quantidade vendida por cada vendedor**"
   ]
  },
  {
   "cell_type": "code",
   "execution_count": null,
   "metadata": {},
   "outputs": [],
   "source": [
    "## seu código aqui\n",
    "vendas = [\n",
    "    [10, 20, 100, 80, 90, 100, 20, 30, 44, 55, 33, 34, 100, 90, 80, 39, 87, 45, 50, 50, 50, 50, 40, 30, 3, 93, 39, 49, 88],    \n",
    "    [100, 1, 1, 4, 5, 90, 100, 20, 4, 5, 100, 100, 100, 100, 100, 93, 20, 15, 40, 90, 90, 90, 90, 90, 90, 33, 22, 44, 43, 34],\n",
    "]\n"
   ]
  },
  {
   "cell_type": "markdown",
   "metadata": {},
   "source": [
    "__DICIONÁRIOS__"
   ]
  },
  {
   "cell_type": "markdown",
   "metadata": {},
   "source": [
    "**1. Crie um dicionário com 3 itens, onde as chaves são nomes de frutas e os valores são o preço de cada fruta. Escreva um código que imprima o preço de uma fruta escolhida pelo usuário.**"
   ]
  },
  {
   "cell_type": "code",
   "execution_count": null,
   "metadata": {},
   "outputs": [],
   "source": [
    "## seu código aqui"
   ]
  },
  {
   "cell_type": "markdown",
   "metadata": {},
   "source": [
    "**2. Crie um dicionário que armazene o nome de 3 estudantes e suas notas. Escreva um código para calcular a média das notas e imprima a média geral.**"
   ]
  },
  {
   "cell_type": "code",
   "execution_count": null,
   "metadata": {},
   "outputs": [],
   "source": [
    "## seu código aqui"
   ]
  },
  {
   "cell_type": "markdown",
   "metadata": {},
   "source": [
    "__ARQUIVOS .txt__"
   ]
  },
  {
   "cell_type": "markdown",
   "metadata": {},
   "source": [
    "**1. Escreva um código que crie um arquivo de texto chamado notas.txt e grave as notas de 5 alunos no arquivo, uma por linha.**"
   ]
  },
  {
   "cell_type": "code",
   "execution_count": null,
   "metadata": {},
   "outputs": [],
   "source": [
    "## seu código aqui"
   ]
  },
  {
   "cell_type": "markdown",
   "metadata": {},
   "source": [
    "**2. Escreva um código que leia o arquivo notas.txt e imprima a soma das notas de todos os alunos.**"
   ]
  },
  {
   "cell_type": "code",
   "execution_count": null,
   "metadata": {},
   "outputs": [],
   "source": [
    "## seu código aqui"
   ]
  },
  {
   "cell_type": "markdown",
   "metadata": {},
   "source": [
    "__ARQUIVOS .json__"
   ]
  },
  {
   "cell_type": "markdown",
   "metadata": {},
   "source": [
    "**1. Crie um dicionário que armazene o nome e a idade de 3 pessoas. Salve esse dicionário em um arquivo JSON chamado pessoas.json.**"
   ]
  },
  {
   "cell_type": "code",
   "execution_count": null,
   "metadata": {},
   "outputs": [],
   "source": [
    "## seu código aqui"
   ]
  },
  {
   "cell_type": "markdown",
   "metadata": {},
   "source": [
    "**2. Escreva um código que leia o arquivo pessoas.json e imprima o nome e a idade de todas as pessoas.**"
   ]
  },
  {
   "cell_type": "code",
   "execution_count": null,
   "metadata": {},
   "outputs": [],
   "source": [
    "## seu código aqui"
   ]
  },
  {
   "cell_type": "markdown",
   "metadata": {},
   "source": [
    "__EXERCÍCIO FINAL (engloba os 3 temas)__"
   ]
  },
  {
   "cell_type": "markdown",
   "metadata": {},
   "source": [
    "**1. Crie um programa que leia um arquivo produtos.txt contendo o nome e o preço de 5 produtos (um por linha, separados por vírgula). Armazene os dados em uma lista de dicionários, onde cada dicionário contém o nome e o preço de um produto. Em seguida, salve essa lista em um arquivo JSON chamado produtos.json. Após isso, leia o arquivo JSON e imprima o nome e o preço de cada produto que tem preço superior a 50 unidades monetárias.**"
   ]
  },
  {
   "cell_type": "code",
   "execution_count": null,
   "metadata": {},
   "outputs": [],
   "source": [
    "## seu código aqui"
   ]
  }
 ],
 "metadata": {
  "kernelspec": {
   "display_name": "Python 3",
   "language": "python",
   "name": "python3"
  },
  "language_info": {
   "codemirror_mode": {
    "name": "ipython",
    "version": 3
   },
   "file_extension": ".py",
   "mimetype": "text/x-python",
   "name": "python",
   "nbconvert_exporter": "python",
   "pygments_lexer": "ipython3",
   "version": "3.11.9"
  }
 },
 "nbformat": 4,
 "nbformat_minor": 2
}
